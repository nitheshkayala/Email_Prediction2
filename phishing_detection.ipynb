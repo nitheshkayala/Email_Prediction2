{
 "cells": [
  {
   "cell_type": "code",
   "execution_count": 1,
   "id": "651e64e8",
   "metadata": {},
   "outputs": [
    {
     "name": "stdout",
     "output_type": "stream",
     "text": [
      "✅ Accuracy: 0.9730941704035875\n",
      "\n",
      "Classification Report:\n",
      "               precision    recall  f1-score   support\n",
      "\n",
      "           0       0.97      1.00      0.98       966\n",
      "           1       1.00      0.80      0.89       149\n",
      "\n",
      "    accuracy                           0.97      1115\n",
      "   macro avg       0.98      0.90      0.94      1115\n",
      "weighted avg       0.97      0.97      0.97      1115\n",
      "\n",
      "\n",
      "Model and vectorizer saved successfully!\n"
     ]
    }
   ],
   "source": [
    "# phishing_detection.py\n",
    "\n",
    "import pandas as pd\n",
    "from sklearn.model_selection import train_test_split\n",
    "from sklearn.feature_extraction.text import TfidfVectorizer\n",
    "from sklearn.linear_model import LogisticRegression\n",
    "from sklearn.metrics import accuracy_score, classification_report\n",
    "import joblib\n",
    "\n",
    "# Step 1: Load the dataset\n",
    "data = pd.read_csv(\"mail_data.csv\")\n",
    "\n",
    "# Step 2: Clean and prepare\n",
    "data = data.dropna()\n",
    "data['Category'] = data['Category'].map({'ham': 0, 'spam': 1, 'phishing': 1})  # map spam/phishing as 1\n",
    "X = data['Message']\n",
    "y = data['Category']\n",
    "\n",
    "# Step 3: Split the data\n",
    "X_train, X_test, y_train, y_test = train_test_split(X, y, test_size=0.2, random_state=42)\n",
    "\n",
    "# Step 4: Convert text to numbers using TF-IDF\n",
    "vectorizer = TfidfVectorizer(stop_words='english', max_features=5000)\n",
    "X_train_tfidf = vectorizer.fit_transform(X_train)\n",
    "X_test_tfidf = vectorizer.transform(X_test)\n",
    "\n",
    "# Step 5: Train model\n",
    "model = LogisticRegression()\n",
    "model.fit(X_train_tfidf, y_train)\n",
    "\n",
    "# Step 6: Evaluate model\n",
    "y_pred = model.predict(X_test_tfidf)\n",
    "print(\"✅ Accuracy:\", accuracy_score(y_test, y_pred))\n",
    "print(\"\\nClassification Report:\\n\", classification_report(y_test, y_pred))\n",
    "\n",
    "# Step 7: Save model and vectorizer\n",
    "joblib.dump(model, \"phishing_model.pkl\")\n",
    "joblib.dump(vectorizer, \"tfidf_vectorizer.pkl\")\n",
    "print(\"\\nModel and vectorizer saved successfully!\")\n"
   ]
  },
  {
   "cell_type": "code",
   "execution_count": 3,
   "id": "9be9bb14",
   "metadata": {},
   "outputs": [
    {
     "ename": "SyntaxError",
     "evalue": "invalid syntax (2418844097.py, line 1)",
     "output_type": "error",
     "traceback": [
      "\u001b[1;36m  Cell \u001b[1;32mIn[3], line 1\u001b[1;36m\u001b[0m\n\u001b[1;33m    python phishing_detection.ipynb\u001b[0m\n\u001b[1;37m           ^\u001b[0m\n\u001b[1;31mSyntaxError\u001b[0m\u001b[1;31m:\u001b[0m invalid syntax\n"
     ]
    }
   ],
   "source": [
    "python phishing_detection.ipynb"
   ]
  },
  {
   "cell_type": "code",
   "execution_count": 4,
   "id": "442f2d75",
   "metadata": {},
   "outputs": [
    {
     "name": "stdout",
     "output_type": "stream",
     "text": [
      "✅ This email seems LEGITIMATE\n"
     ]
    }
   ],
   "source": [
    "import joblib\n",
    "\n",
    "model = joblib.load(\"phishing_model.pkl\")\n",
    "vectorizer = joblib.load(\"tfidf_vectorizer.pkl\")\n",
    "\n",
    "def predict_email(text):\n",
    "    text_tfidf = vectorizer.transform([text])\n",
    "    prediction = model.predict(text_tfidf)[0]\n",
    "    if prediction == 1:\n",
    "        print(\"🚨 This email looks like PHISHING / SPAM\")\n",
    "    else:\n",
    "        print(\"✅ This email seems LEGITIMATE\")\n",
    "\n",
    "# Example test\n",
    "email = \"Your bank account has been blocked. Click here to verify your identity.\"\n",
    "predict_email(email)\n"
   ]
  },
  {
   "cell_type": "code",
   "execution_count": 5,
   "id": "1d062fed",
   "metadata": {},
   "outputs": [
    {
     "name": "stdout",
     "output_type": "stream",
     "text": [
      "✅ Data Loaded — Shape: (5572, 2)\n",
      "\n",
      "✅ Accuracy: 96.23 %\n",
      "\n",
      "Classification Report:\n",
      "               precision    recall  f1-score   support\n",
      "\n",
      "           0       0.96      1.00      0.98       966\n",
      "           1       1.00      0.72      0.84       149\n",
      "\n",
      "    accuracy                           0.96      1115\n",
      "   macro avg       0.98      0.86      0.91      1115\n",
      "weighted avg       0.96      0.96      0.96      1115\n",
      "\n",
      "\n",
      "💾 Model & Vectorizer saved successfully!\n",
      "\n",
      "Sample Test: ✅ LEGITIMATE\n"
     ]
    }
   ],
   "source": [
    "# ===============================================\n",
    "# 📧 PHISHING EMAIL DETECTION USING MACHINE LEARNING\n",
    "# ===============================================\n",
    "\n",
    "import pandas as pd\n",
    "import numpy as np\n",
    "from sklearn.model_selection import train_test_split\n",
    "from sklearn.feature_extraction.text import TfidfVectorizer\n",
    "from sklearn.linear_model import LogisticRegression\n",
    "from sklearn.metrics import accuracy_score, classification_report\n",
    "import joblib\n",
    "import re\n",
    "import string\n",
    "\n",
    "# STEP 1: Load Dataset\n",
    "data = pd.read_csv(\"mail_data.csv\")\n",
    "print(\"✅ Data Loaded — Shape:\", data.shape)\n",
    "\n",
    "# Clean up column names\n",
    "data.columns = [c.strip() for c in data.columns]\n",
    "if \"Category\" not in data.columns:\n",
    "    for c in data.columns:\n",
    "        if \"label\" in c.lower() or \"spam\" in c.lower():\n",
    "            data.rename(columns={c: \"Category\"}, inplace=True)\n",
    "if \"Message\" not in data.columns:\n",
    "    for c in data.columns:\n",
    "        if \"message\" in c.lower() or \"text\" in c.lower():\n",
    "            data.rename(columns={c: \"Message\"}, inplace=True)\n",
    "\n",
    "# STEP 2: Drop null rows\n",
    "data = data.dropna(subset=[\"Message\", \"Category\"])\n",
    "\n",
    "# STEP 3: Clean text\n",
    "def clean_text(text):\n",
    "    text = text.lower()\n",
    "    text = re.sub(r\"http\\S+|www\\S+\", \"\", text)\n",
    "    text = text.translate(str.maketrans(\"\", \"\", string.punctuation))\n",
    "    text = re.sub(r\"\\d+\", \"\", text)\n",
    "    text = re.sub(r\"\\s+\", \" \", text).strip()\n",
    "    return text\n",
    "\n",
    "data[\"clean_text\"] = data[\"Message\"].apply(clean_text)\n",
    "\n",
    "# STEP 4: Label encode\n",
    "data[\"Category\"] = data[\"Category\"].str.lower().map(\n",
    "    {\"spam\": 1, \"phishing\": 1, \"ham\": 0, \"legit\": 0, \"normal\": 0}\n",
    ").fillna(0).astype(int)\n",
    "\n",
    "# STEP 5: Split data\n",
    "X_train, X_test, y_train, y_test = train_test_split(\n",
    "    data[\"clean_text\"], data[\"Category\"], test_size=0.2, random_state=42, stratify=data[\"Category\"]\n",
    ")\n",
    "\n",
    "# STEP 6: TF-IDF\n",
    "vectorizer = TfidfVectorizer(stop_words=\"english\", max_features=5000)\n",
    "X_train_tfidf = vectorizer.fit_transform(X_train)\n",
    "X_test_tfidf = vectorizer.transform(X_test)\n",
    "\n",
    "# STEP 7: Train model\n",
    "model = LogisticRegression(max_iter=2000)\n",
    "model.fit(X_train_tfidf, y_train)\n",
    "\n",
    "# STEP 8: Evaluate\n",
    "y_pred = model.predict(X_test_tfidf)\n",
    "print(\"\\n✅ Accuracy:\", round(accuracy_score(y_test, y_pred)*100, 2), \"%\")\n",
    "print(\"\\nClassification Report:\\n\", classification_report(y_test, y_pred))\n",
    "\n",
    "# STEP 9: Save model\n",
    "joblib.dump(model, \"phishing_model.pkl\")\n",
    "joblib.dump(vectorizer, \"tfidf_vectorizer.pkl\")\n",
    "print(\"\\n💾 Model & Vectorizer saved successfully!\")\n",
    "\n",
    "# STEP 10: Test with new email\n",
    "def predict_email(text):\n",
    "    clean = clean_text(text)\n",
    "    vectorized = vectorizer.transform([clean])\n",
    "    pred = model.predict(vectorized)[0]\n",
    "    return \"🚨 PHISHING/SPAM\" if pred == 1 else \"✅ LEGITIMATE\"\n",
    "\n",
    "sample = \"Your bank account has been locked. Click the link below to verify your credentials.\"\n",
    "print(\"\\nSample Test:\", predict_email(sample))\n"
   ]
  },
  {
   "cell_type": "code",
   "execution_count": null,
   "id": "19ddaf7d",
   "metadata": {},
   "outputs": [],
   "source": []
  }
 ],
 "metadata": {
  "kernelspec": {
   "display_name": "Python 3 (ipykernel)",
   "language": "python",
   "name": "python3"
  },
  "language_info": {
   "codemirror_mode": {
    "name": "ipython",
    "version": 3
   },
   "file_extension": ".py",
   "mimetype": "text/x-python",
   "name": "python",
   "nbconvert_exporter": "python",
   "pygments_lexer": "ipython3",
   "version": "3.10.9"
  }
 },
 "nbformat": 4,
 "nbformat_minor": 5
}
